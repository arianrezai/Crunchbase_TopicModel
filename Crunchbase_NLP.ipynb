{
 "cells": [
  {
   "cell_type": "markdown",
   "metadata": {},
   "source": [
    "### NLP project on Crunchbase database "
   ]
  },
  {
   "cell_type": "markdown",
   "metadata": {},
   "source": [
    "## Contents\n",
    "\n",
    "&nbsp;&nbsp;&nbsp;&nbsp;**Introduction**   \n",
    "\n",
    "\n",
    "\n",
    "**1. Data and Preprocessing**    \n",
    "&nbsp;&nbsp;&nbsp;&nbsp;&nbsp;&nbsp;   1.1. Data Cleaning  \n",
    "&nbsp;&nbsp;&nbsp;&nbsp;&nbsp;&nbsp;   1.2. First Preprocessing  \n",
    "&nbsp;&nbsp;&nbsp;&nbsp;&nbsp;&nbsp;   1.3. Removing stopwords using CountVectorizer + Lemmatizing   \n",
    "**2. Analysis**  \n",
    "&nbsp;&nbsp;&nbsp;&nbsp;&nbsp;&nbsp;    2.1 Word & Document embeddings    \n",
    "&nbsp;&nbsp;&nbsp;&nbsp;&nbsp;&nbsp;    2.2 TF-IDF Analysis    \n",
    "&nbsp;&nbsp;&nbsp;&nbsp;&nbsp;&nbsp;    2.3 Topic Modeling with Latent Dirichlet Allocation  \n",
    "&nbsp;&nbsp;&nbsp;&nbsp;&nbsp;&nbsp;    2.4 Language models      \n",
    "&nbsp;&nbsp;&nbsp;&nbsp;&nbsp;&nbsp;    2.5 Cluster Analysis    \n",
    "**3. Models Testing & Conclusions** "
   ]
  },
  {
   "cell_type": "markdown",
   "metadata": {},
   "source": [
    "## Introduction\n",
    "\n",
    "\n",
    "The aim of this research is to derive insights from the analysis of the descriptions that startups (and innovative companies in general) provide of themselves. \n",
    "\n",
    "\n",
    "The most important repository of this type of information is Crunchbase: originally built to track only startups, today the website contains information on public and private companies on a global scale. \n",
    "\n",
    "Specifically, this project will characterize each company by their name, their description (from now on **overview**) and by the the categorization that is already provided in the dataset. This last element is the main source of information that is going to be analyzed.\n",
    "\n",
    "In fact, the categories in the dataset are sound but overly specific in the eyes of an investor which is exploring the data looking for new investing opportunities. Due to this, it could be that a company similar to the good-performing ones already in his/her portfolio are mistakenly deemed as completely different. \n",
    "\n",
    "Through a rational regrouping and through the results of the main NLP techniques we are going to identify more broad, but equally representative categories for the companies. \n",
    "\n",
    "One main limit of the databased used in this project is that the data is not up to date: Crunchbase allows free-of-charge only to download data up to 2013. \n",
    "However, the benefit of this framework is that it allows to test the models that have been generated and to assess their validity on unseen, recent overviews. For this reason, the project will include a last section dedicated to this. \n",
    "\n",
    "\n"
   ]
  },
  {
   "cell_type": "markdown",
   "metadata": {},
   "source": [
    "## 1. Data and Preprocessing"
   ]
  },
  {
   "cell_type": "markdown",
   "metadata": {},
   "source": [
    "###  1.1. Data Cleaning"
   ]
  },
  {
   "cell_type": "code",
   "execution_count": 1,
   "metadata": {},
   "outputs": [],
   "source": [
    "import pandas as pd\n",
    "import numpy as np\n",
    "import scipy as sp\n",
    "import matplotlib.pyplot as plt\n",
    "from pprint import pprint\n",
    "\n",
    "import warnings\n",
    "warnings.filterwarnings(\"ignore\",category=DeprecationWarning)\n",
    "\n",
    "#import nltk\n",
    "from nltk.stem import WordNetLemmatizer, SnowballStemmer\n",
    "from nltk.stem.porter import *\n",
    "from nltk import ngrams\n",
    "\n",
    "from sklearn.feature_extraction import text \n",
    "from sklearn.feature_extraction.text import CountVectorizer\n",
    "from sklearn.decomposition import TruncatedSVD\n",
    "from sklearn.manifold import TSNE\n",
    "from sklearn.feature_extraction.text import TfidfVectorizer\n",
    "from sklearn.decomposition import NMF\n",
    "from sklearn.cluster import KMeans, AgglomerativeClustering\n",
    "from sklearn.metrics import silhouette_score\n",
    "\n",
    "\n",
    "\n",
    "\n",
    "#import gensim\n",
    "from gensim import corpora, models\n",
    "from gensim.utils import simple_preprocess\n",
    "from gensim.parsing.preprocessing import STOPWORDS\n",
    "from gensim.models import Word2Vec\n",
    "from gensim.models import Doc2Vec\n",
    "from gensim.models.word2vec import FAST_VERSION\n",
    "from gensim.models.doc2vec import TaggedDocument\n",
    "from gensim.models import LdaMulticore, TfidfModel, CoherenceModel\n",
    "from gensim.corpora import Dictionary\n",
    "from gensim.models.phrases import Phrases\n",
    "\n",
    "\n",
    "import seaborn as sb\n",
    "from mpl_toolkits.mplot3d import Axes3D\n",
    "from matplotlib import colors\n",
    "\n",
    "from collections import defaultdict\n",
    "import re\n",
    "\n",
    "\n",
    "\n"
   ]
  },
  {
   "cell_type": "markdown",
   "metadata": {},
   "source": [
    "First we load the CSV file and impose that only companies are taken into account"
   ]
  },
  {
   "cell_type": "code",
   "execution_count": 2,
   "metadata": {},
   "outputs": [],
   "source": [
    "cb_objects = pd.read_csv(\"data/cb_objects.csv\", index_col=0, low_memory=False)\n",
    "cb_objects = cb_objects[cb_objects[\"entity_type\"] == \"Company\"]"
   ]
  },
  {
   "cell_type": "markdown",
   "metadata": {},
   "source": [
    "We only keep most recent startups (those that were funded starting from year 2000) and keep useful columns, for which we drop missing values "
   ]
  },
  {
   "cell_type": "code",
   "execution_count": 3,
   "metadata": {},
   "outputs": [],
   "source": [
    "cb_objects.loc[:,('founded_at')] = pd.to_datetime(cb_objects.founded_at, errors='coerce')\n",
    "cb_objects = cb_objects.loc[(cb_objects.founded_at.dt.year >= 2000),:]\n",
    "new_columns = ['entity_id','entity_type','normalized_name','category_code','overview', 'status', 'funding_total_usd'  ]\n",
    "df = cb_objects.loc[:, new_columns ]\n",
    "df = df.dropna( subset = ['category_code','overview', 'funding_total_usd'])"
   ]
  },
  {
   "cell_type": "code",
   "execution_count": 7,
   "metadata": {},
   "outputs": [
    {
     "name": "stdout",
     "output_type": "stream",
     "text": [
      "Since there are 42 categories of startups, the best idea is to create bigger categories incorporating them\n"
     ]
    }
   ],
   "source": [
    "print(\"Since there are {} categories of startups, the best idea is to create bigger categories incorporating them\".format(len(df.category_code.unique())))"
   ]
  },
  {
   "cell_type": "code",
   "execution_count": 4,
   "metadata": {},
   "outputs": [],
   "source": [
    "def merge_categories(categories):\n",
    "    parent_categories = {\n",
    "        \"information_technology\": [\"software\", \"web\", \"network_hosting\", \"search\", \"analytics\", \"ecommerce\"],\n",
    "        \"mobile_app\": [\"mobile\", \"social\", \"messaging\",\"music\"],\n",
    "        \"industry\": [\"hardware\", \"semiconductor\", \"manufacturing\", \"transportation\", \"automotive\", \"cleantech\",\"consulting\" , \"legal\", \"finance\"],\n",
    "        \"health\": [\"health\", \"medical\", \"biotech\", \"nanotech\"],\n",
    "        \"entertainment\": [\"games_video\",\"sports\", \"photo_video\", \"pets\", \"news\", \"design\", \"fashion\", \"travel\", \"hospitality\",\"public_relations\",\"advertising\"],\n",
    "        \"other\": [\"other\", \"enterprise\", \"local\", \"nonprofit\", \"government\", \"security\", \"education\", \"real_estate\"]\n",
    "    }\n",
    "    mapping = {v: k for k,vv in parent_categories.items() for v in vv}\n",
    "\n",
    "    return categories.map(mapping)\n",
    "df[\"category_code\"] = merge_categories(df[\"category_code\"])"
   ]
  },
  {
   "cell_type": "markdown",
   "metadata": {},
   "source": [
    "By looking at the new categories it is evident that there is a prevalence of Startups operating in the Information Technology field.  \n",
    "\n",
    "\n",
    "This is justified by the technological innovations that have taken place in the past decades. However, this \"inbalance\" does not represent a problem for our analysis. In fact, the presence of IT tools (and thus of words related to it inside overviews) is nowadays sufficiently common in all field; by preprocessing and removing most common words across documents we make sure that they are not biasing our result. "
   ]
  },
  {
   "cell_type": "code",
   "execution_count": 9,
   "metadata": {
    "scrolled": true
   },
   "outputs": [
    {
     "data": {
      "text/plain": [
       "information_technology    6976\n",
       "entertainment             2916\n",
       "health                    2434\n",
       "other                     2303\n",
       "mobile_app                2264\n",
       "industry                  2199\n",
       "Name: category_code, dtype: int64"
      ]
     },
     "execution_count": 9,
     "metadata": {},
     "output_type": "execute_result"
    }
   ],
   "source": [
    "df[\"category_code\"].value_counts()"
   ]
  },
  {
   "cell_type": "markdown",
   "metadata": {},
   "source": [
    "Let's plot the distribution of Overviews into the new categories"
   ]
  },
  {
   "cell_type": "code",
   "execution_count": 10,
   "metadata": {
    "scrolled": false
   },
   "outputs": [
    {
     "data": {
      "text/plain": [
       "<BarContainer object of 6 artists>"
      ]
     },
     "execution_count": 10,
     "metadata": {},
     "output_type": "execute_result"
    },
    {
     "data": {
      "image/png": "[encoded data removed]",
      "text/plain": [
       "<Figure size 864x432 with 1 Axes>"
      ]
     },
     "metadata": {
      "needs_background": "light"
     },
     "output_type": "display_data"
    }
   ],
   "source": [
    "fig, ax = plt.subplots(figsize=(12,6))\n",
    "ax.spines['top'].set_visible(False)\n",
    "ax.spines['right'].set_visible(False)\n",
    "ax.spines['left'].set_position(('outward', 5))\n",
    "ax.spines['bottom'].set_position(('outward', 5))\n",
    "\n",
    "category_counts = df[\"category_code\"].value_counts()\n",
    "labels = category_counts.index.tolist()\n",
    "sizes = category_counts.values.tolist()\n",
    "plt.bar(labels, sizes)"
   ]
  },
  {
   "cell_type": "markdown",
   "metadata": {},
   "source": [
    "One last piece of information that can be introduced is the amount of capitalization obtained by the company. \n",
    "\n",
    "To do so, we introduce a categorical variable called \"funding_category\" and reindex our Dataframe df dividing each comany in:\n",
    "\n",
    "\n",
    "I. Biggest size companies: funding amount > $ 100.000K  \n",
    "\n",
    "II. Medium size companies: 100K < funding amount < $ 100.000K \n",
    "\n",
    "\n",
    "III. Smaller size companies: funding amount < $100K "
   ]
  },
  {
   "cell_type": "code",
   "execution_count": 5,
   "metadata": {},
   "outputs": [],
   "source": [
    "df_visual = df.copy(deep=True)"
   ]
  },
  {
   "cell_type": "code",
   "execution_count": 6,
   "metadata": {},
   "outputs": [
    {
     "data": {
      "text/html": [
       "<div>\n",
       "<style scoped>\n",
       "    .dataframe tbody tr th:only-of-type {\n",
       "        vertical-align: middle;\n",
       "    }\n",
       "\n",
       "    .dataframe tbody tr th {\n",
       "        vertical-align: top;\n",
       "    }\n",
       "\n",
       "    .dataframe thead th {\n",
       "        text-align: right;\n",
       "    }\n",
       "</style>\n",
       "<table border=\"1\" class=\"dataframe\">\n",
       "  <thead>\n",
       "    <tr style=\"text-align: right;\">\n",
       "      <th></th>\n",
       "      <th></th>\n",
       "      <th>number</th>\n",
       "    </tr>\n",
       "    <tr>\n",
       "      <th>funding_category</th>\n",
       "      <th>category_code</th>\n",
       "      <th></th>\n",
       "    </tr>\n",
       "  </thead>\n",
       "  <tbody>\n",
       "    <tr>\n",
       "      <th rowspan=\"6\" valign=\"top\">I</th>\n",
       "      <th>entertainment</th>\n",
       "      <td>42</td>\n",
       "    </tr>\n",
       "    <tr>\n",
       "      <th>health</th>\n",
       "      <td>106</td>\n",
       "    </tr>\n",
       "    <tr>\n",
       "      <th>industry</th>\n",
       "      <td>94</td>\n",
       "    </tr>\n",
       "    <tr>\n",
       "      <th>information_technology</th>\n",
       "      <td>88</td>\n",
       "    </tr>\n",
       "    <tr>\n",
       "      <th>mobile_app</th>\n",
       "      <td>37</td>\n",
       "    </tr>\n",
       "    <tr>\n",
       "      <th>other</th>\n",
       "      <td>42</td>\n",
       "    </tr>\n",
       "    <tr>\n",
       "      <th rowspan=\"6\" valign=\"top\">II</th>\n",
       "      <th>entertainment</th>\n",
       "      <td>2525</td>\n",
       "    </tr>\n",
       "    <tr>\n",
       "      <th>health</th>\n",
       "      <td>2222</td>\n",
       "    </tr>\n",
       "    <tr>\n",
       "      <th>industry</th>\n",
       "      <td>1960</td>\n",
       "    </tr>\n",
       "    <tr>\n",
       "      <th>information_technology</th>\n",
       "      <td>6103</td>\n",
       "    </tr>\n",
       "    <tr>\n",
       "      <th>mobile_app</th>\n",
       "      <td>1904</td>\n",
       "    </tr>\n",
       "    <tr>\n",
       "      <th>other</th>\n",
       "      <td>2026</td>\n",
       "    </tr>\n",
       "    <tr>\n",
       "      <th rowspan=\"6\" valign=\"top\">III</th>\n",
       "      <th>entertainment</th>\n",
       "      <td>349</td>\n",
       "    </tr>\n",
       "    <tr>\n",
       "      <th>health</th>\n",
       "      <td>106</td>\n",
       "    </tr>\n",
       "    <tr>\n",
       "      <th>industry</th>\n",
       "      <td>145</td>\n",
       "    </tr>\n",
       "    <tr>\n",
       "      <th>information_technology</th>\n",
       "      <td>785</td>\n",
       "    </tr>\n",
       "    <tr>\n",
       "      <th>mobile_app</th>\n",
       "      <td>323</td>\n",
       "    </tr>\n",
       "    <tr>\n",
       "      <th>other</th>\n",
       "      <td>235</td>\n",
       "    </tr>\n",
       "  </tbody>\n",
       "</table>\n",
       "</div>"
      ],
      "text/plain": [
       "                                         number\n",
       "funding_category category_code                 \n",
       "I                entertainment               42\n",
       "                 health                     106\n",
       "                 industry                    94\n",
       "                 information_technology      88\n",
       "                 mobile_app                  37\n",
       "                 other                       42\n",
       "II               entertainment             2525\n",
       "                 health                    2222\n",
       "                 industry                  1960\n",
       "                 information_technology    6103\n",
       "                 mobile_app                1904\n",
       "                 other                     2026\n",
       "III              entertainment              349\n",
       "                 health                     106\n",
       "                 industry                   145\n",
       "                 information_technology     785\n",
       "                 mobile_app                 323\n",
       "                 other                      235"
      ]
     },
     "execution_count": 6,
     "metadata": {},
     "output_type": "execute_result"
    }
   ],
   "source": [
    "filter_method = lambda x: 'I' if x >= 100000000 else 'II' if (x < 100000000 and x >= 100000) else 'III' if x < 100000 else None\n",
    "df_visual[\"funding_category\"] = df_visual[\"funding_total_usd\"].apply(filter_method)\n",
    "pd.DataFrame(df_visual[\"entity_id\"].groupby([df_visual[\"funding_category\"],df_visual[\"category_code\"]]).count()).rename(columns={'entity_id':'number'})"
   ]
  },
  {
   "cell_type": "markdown",
   "metadata": {},
   "source": [
    "To better visualize the result we use a bar plot:"
   ]
  },
  {
   "cell_type": "code",
   "execution_count": 7,
   "metadata": {
    "scrolled": true
   },
   "outputs": [
    {
     "data": {
      "text/plain": [
       "<matplotlib.axes._subplots.AxesSubplot at 0x20106c6ad30>"
      ]
     },
     "execution_count": 7,
     "metadata": {},
     "output_type": "execute_result"
    },
    {
     "data": {
      "image/png": "[encoded data removed]",
      "text/plain": [
       "<Figure size 432x288 with 1 Axes>"
      ]
     },
     "metadata": {
      "needs_background": "light"
     },
     "output_type": "display_data"
    }
   ],
   "source": [
    "pd.DataFrame(df_visual[\"entity_id\"].groupby([df_visual[\"funding_category\"],df_visual[\"category_code\"]]).count()).rename(columns={'entity_id':'number'}).plot(kind= \"bar\")"
   ]
  },
  {
   "cell_type": "markdown",
   "metadata": {},
   "source": [
    "As it could be expected we can almost see a gaussian distribution of the companies across the two indices. The predominance of the technology category is confirmed in all three funding ranges. \n",
    "\n",
    "Moreover, even though the great majority of companies belongs to the II category, there is an interesting skewedness toward the right side. This asymmetry is due to an intrinsic bias of the database: obviously, the biggest companies are more likely to be featured on the database rather than the smallest startups, that are, therefore, absent in this representation.\n"
   ]
  },
  {
   "cell_type": "markdown",
   "metadata": {},
   "source": [
    "###  1.2. First Preprocessing \n",
    "\n",
    "By printing out the first overviews it is clear that there is some noise. Some examples are numers, website links and connected words (meta-network, state-of-the-art) that would be meaningful separately.\n",
    "\n",
    "\n",
    "Our aim is to use regular expressions clean this elements. A copy called df2 is kept in order to create statistics at the end of the preprocessing. "
   ]
  },
  {
   "cell_type": "code",
   "execution_count": 8,
   "metadata": {},
   "outputs": [],
   "source": [
    "df2 = df.reset_index( drop = True).drop(columns = [\"entity_id\"])"
   ]
  },
  {
   "cell_type": "code",
   "execution_count": 9,
   "metadata": {
    "scrolled": false
   },
   "outputs": [
    {
     "name": "stdout",
     "output_type": "stream",
     "text": [
      "array(['wetpaint',\n",
      "       'Wetpaint is a technology platform company that uses its proprietary state-of-the-art technology and expertise in social media to build and monetize audiences for digital publishers. Wetpaint'],\n",
      "      dtype=object)\n",
      "array(['friendfeed',\n",
      "       \"[FriendFeed](http://www.friendfeed.com) aims to be a one stop shop for all your social networking updates and news items.  The four founders were all team members at [Google](/company/google) and helped to launch such products as [Google Maps](/product/google-maps), [Adsense](/product/google-adsense), [GMail](/product/gmail) and [Google Groups](/product/google-groups).  They've brought their expertise to a slightly different area: social network aggregating.\\r\\n\\r\\nFriendFeed is a service which, instead of layering a meta-network on top of all your other social networks, will create a news feed incorporating them all much like the [Facebook](/company/facebook) news feed.  \\r\\n\\r\\nUsers tell the feed which networks they belong to (Facebook, [Digg](/company/digg), [Last.fm](/company/last-fm) etc) and FriendFeed personalizes a data feed with info from each of the sites.\\r\\n\\r\\nThe company was [acquired by Facebook](http://www.techcrunch.com/2009/08/10/facebook-acquires-friendfeed) in August 2009.\"],\n",
      "      dtype=object)\n"
     ]
    }
   ],
   "source": [
    "for i in range(2):\n",
    "    pprint(df2.iloc[i][['normalized_name','overview']].values)"
   ]
  },
  {
   "cell_type": "code",
   "execution_count": 10,
   "metadata": {},
   "outputs": [],
   "source": [
    "def text_cleaner(text):\n",
    "    \"\"\"Removes emails, urls, text in parentheses, and \\r or \\n.\n",
    "       Replace dashes in words with spaces(e.g. easy-to-use > easy to use)\"\"\"\n",
    "    text = re.sub('\\S*@\\S*\\s?', '', text)     # remove twitter handles / emails \n",
    "    text = re.sub('\\(.*?\\)','', text)         # Remove words in parenthesis\n",
    "    text = re.sub('\\[.*?\\]','', text)         # Remove words in parenthesis\n",
    "    text = re.sub('\\\\n|\\\\r','',text)          # Remove \"\\n or \\r\"\n",
    "    text = re.sub('(?<=\\S)-',' ', text)       # Replace - in words with spaces\n",
    "    text = re.sub('[_\\-\\'\\\"]+\\S+', '', text)  # remove words that start with punctuation\n",
    "    text = re.sub('\\S*[0-9]+\\S*', '', text)   # remove words with numbers\n",
    "    return text"
   ]
  },
  {
   "cell_type": "code",
   "execution_count": 11,
   "metadata": {},
   "outputs": [],
   "source": [
    "df2['overview'] = df2['overview'].apply(text_cleaner)"
   ]
  },
  {
   "cell_type": "markdown",
   "metadata": {},
   "source": [
    "### 1.3 Removing stopwords using CountVectorizer + Lemmatizing "
   ]
  },
  {
   "cell_type": "markdown",
   "metadata": {},
   "source": [
    "In this second phase we first aim to remove stopwords. \n",
    "\n",
    "Instead of merely relying on the standard  ones offered in the sklearn library,it is possible to personalize this list by adding those words that do not convey any important message.   \n",
    "Technically, this is automatically done by setting thresholds inside the CountVectorizer and TFIDF functions. However, the structure of this corpus is such that some words could be repeated very often in a specific subset (such as the word \"media\" for the companies operating in the Entertainment industry). Those words would not be detected since they do not appear in more than the 75% of the corpus (for example).   \n",
    "\n",
    "Using CountVectorized with no maximum frequence limit allows to find these words."
   ]
  },
  {
   "cell_type": "code",
   "execution_count": 12,
   "metadata": {},
   "outputs": [],
   "source": [
    "clean_df = df2[['normalized_name','overview','category_code']].set_index('normalized_name')"
   ]
  },
  {
   "cell_type": "code",
   "execution_count": 13,
   "metadata": {
    "scrolled": false
   },
   "outputs": [],
   "source": [
    "cv = CountVectorizer(stop_words='english')                  \n",
    "X_cv_preliminar = cv.fit_transform(clean_df.overview)                 \n",
    "overview_dtm = pd.DataFrame(X_cv_preliminar.toarray(), columns=cv.get_feature_names())\n",
    "overview_dtm.index = clean_df.index"
   ]
  },
  {
   "cell_type": "markdown",
   "metadata": {},
   "source": [
    "Here add the 25 most frequent words to the list of specific stops and print them for clarity"
   ]
  },
  {
   "cell_type": "code",
   "execution_count": 14,
   "metadata": {
    "scrolled": false
   },
   "outputs": [
    {
     "data": {
      "text/plain": [
       "['company',\n",
       " 'based',\n",
       " 'mobile',\n",
       " 'platform',\n",
       " 'online',\n",
       " 'technology',\n",
       " 'provides',\n",
       " 'social',\n",
       " 'services',\n",
       " 'data',\n",
       " 'solutions',\n",
       " 'founded',\n",
       " 'software',\n",
       " 'products',\n",
       " 'users',\n",
       " 'new',\n",
       " 'service',\n",
       " 'business',\n",
       " 'offers',\n",
       " 'management',\n",
       " 'web',\n",
       " 'time',\n",
       " 'content',\n",
       " 'media',\n",
       " 'world']"
      ]
     },
     "execution_count": 14,
     "metadata": {},
     "output_type": "execute_result"
    }
   ],
   "source": [
    "specific_stops = list(overview_dtm.sum().sort_values(ascending=False)[:25].index)\n",
    "specific_stops"
   ]
  },
  {
   "cell_type": "markdown",
   "metadata": {},
   "source": [
    "Now, after removing the stopwords we lemmatize words. \n",
    "\n",
    "Since the overviews are the presentations of companies that aim to obtain funds from investors, their style is similar, refined and technical. We not only assume that lemmatizing does not imply any loss of information lost, but, moreover, that this procedure allows to better understand underlying similarities. \n",
    "\n",
    "\n",
    "Finally we create the final DataFrame, Called clean_df. "
   ]
  },
  {
   "cell_type": "code",
   "execution_count": 15,
   "metadata": {},
   "outputs": [],
   "source": [
    "lemmatizer = WordNetLemmatizer()\n",
    "def lemmatize_stemming(text):\n",
    "    return lemmatizer.lemmatize(text, pos='v')\n",
    "def preprocess(text):\n",
    "    result = []\n",
    "    for token in simple_preprocess(text):\n",
    "        if token not in STOPWORDS and token not in specific_stops and len(token) > 3:\n",
    "            result.append(lemmatize_stemming(token))\n",
    "    return result"
   ]
  },
  {
   "cell_type": "code",
   "execution_count": 16,
   "metadata": {},
   "outputs": [],
   "source": [
    "clean_df['overview'] = clean_df['overview'].apply(preprocess)"
   ]
  },
  {
   "cell_type": "markdown",
   "metadata": {},
   "source": [
    "### 1.4 Statistics about preprocessing"
   ]
  },
  {
   "cell_type": "code",
   "execution_count": 26,
   "metadata": {},
   "outputs": [],
   "source": [
    "words_before = \" \".join(df['overview'].to_list()).split()"
   ]
  },
  {
   "cell_type": "code",
   "execution_count": 27,
   "metadata": {},
   "outputs": [],
   "source": [
    "words_after = \" \".join(clean_df['overview'].to_string()).split()"
   ]
  },
  {
   "cell_type": "code",
   "execution_count": 28,
   "metadata": {
    "scrolled": true
   },
   "outputs": [
    {
     "name": "stdout",
     "output_type": "stream",
     "text": [
      "The number of all the companies in the dataframe was of 78696;\n",
      "After removing the ones with missing values in the analysis-relevant attributes we reached a dataframe of size 19092 \n",
      "\n",
      "The corpus contained 1459710 words before the preprocessing:\n",
      "After removing stopwords we have 1026392 lemmatized words.\n",
      "\n",
      "Lastly, the average lenght of an overview before preprocessing was 76.46, while the average lenght of an overview after performing the preprocessing is of 53.76 words. \n",
      "\n"
     ]
    }
   ],
   "source": [
    "print( \"The number of all the companies in the dataframe was of {};\".format(len(cb_objects)))\n",
    "print( \"After removing the ones with missing values in the analysis-relevant attributes we reached a dataframe of size {} \\n\".format(len(clean_df)))\n",
    "print( \"The corpus contained {} words before the preprocessing:\".format(len(words_before)))\n",
    "print( \"After removing stopwords we have {} lemmatized words.\\n\".format(len(words_after)))\n",
    "print( \"Lastly, the average lenght of an overview before preprocessing was {}, while the average lenght of an overview after performing the preprocessing is of {} words. \\n\".format((round(len(words_before) / len(df), 2)),round(len(words_after) / len(clean_df), 2)))"
   ]
  },
  {
   "cell_type": "markdown",
   "metadata": {},
   "source": [
    "## 2. Analysis "
   ]
  },
  {
   "cell_type": "markdown",
   "metadata": {},
   "source": [
    "### 2.1 Word and Document Embeddings "
   ]
  },
  {
   "cell_type": "markdown",
   "metadata": {},
   "source": [
    "In order to create Word Embeddings, we re-implement CountVectorizer, this time introducing the best parameters for the corpus"
   ]
  },
  {
   "cell_type": "code",
   "execution_count": 17,
   "metadata": {},
   "outputs": [],
   "source": [
    "vectorizer = CountVectorizer(analyzer='word',\n",
    "                             stop_words='english',\n",
    "                            # ngram_range=(1, 2), # still use unigrams and bigrams\n",
    "                             min_df=0.001, # use only n-grams occuring in at least 0.1% of docs\n",
    "                             max_df=0.75) # use only n-grams occuring in max 75% of docs\n",
    "  \n",
    "corpus_cv = clean_df.overview.to_list()"
   ]
  },
  {
   "cell_type": "code",
   "execution_count": 18,
   "metadata": {
    "scrolled": true
   },
   "outputs": [
    {
     "data": {
      "text/plain": [
       "(48062817, 146707800)"
      ]
     },
     "execution_count": 18,
     "metadata": {},
     "output_type": "execute_result"
    }
   ],
   "source": [
    "w2v_model = Word2Vec(size=100, # vector size\n",
    "                     window=15, # window for sampling\n",
    "                     sample=0.0001, # subsampling rate\n",
    "                     iter=200, # iterations\n",
    "                     min_count=100, # minimum threshold\n",
    "                     workers=10, # parallelize to all cores\n",
    ")\n",
    "\n",
    "# build the vocabulary\n",
    "w2v_model.build_vocab(corpus_cv)\n",
    "\n",
    "# train the model\n",
    "w2v_model.train(corpus_cv, \n",
    "                total_examples=w2v_model.corpus_count, \n",
    "                epochs=w2v_model.epochs)\n"
   ]
  },
  {
   "cell_type": "code",
   "execution_count": 19,
   "metadata": {},
   "outputs": [
    {
     "data": {
      "text/plain": [
       "[('better', 0.6738294363021851),\n",
       " ('empower', 0.6182574033737183),\n",
       " ('decisions', 0.5619518160820007),\n",
       " ('understand', 0.5228228569030762),\n",
       " ('businesses', 0.43285495042800903),\n",
       " ('relationships', 0.4134939908981323),\n",
       " ('opportunities', 0.41277778148651123),\n",
       " ('make', 0.41166919469833374),\n",
       " ('believe', 0.41045305132865906),\n",
       " ('spend', 0.39624330401420593)]"
      ]
     },
     "execution_count": 19,
     "metadata": {},
     "output_type": "execute_result"
    }
   ],
   "source": [
    "w2v_model.wv.most_similar(['help'])"
   ]
  },
  {
   "cell_type": "markdown",
   "metadata": {},
   "source": [
    "The words associated belong to 2 categories. Some are related in the use case (help and businesses, others are semantically synonims (Help, improve and better). Also the similarity between two words is sound.  "
   ]
  },
  {
   "cell_type": "code",
   "execution_count": 32,
   "metadata": {},
   "outputs": [
    {
     "name": "stdout",
     "output_type": "stream",
     "text": [
      "0.07105984\n"
     ]
    }
   ],
   "source": [
    "print(w2v_model.wv.similarity(\"help\", \"enhance\"))"
   ]
  },
  {
   "cell_type": "code",
   "execution_count": 33,
   "metadata": {
    "scrolled": true
   },
   "outputs": [
    {
     "name": "stdout",
     "output_type": "stream",
     "text": [
      "8.6475164e-05\n"
     ]
    }
   ],
   "source": [
    "print(w2v_model.wv.similarity(\"help\", \"drop\"))"
   ]
  },
  {
   "cell_type": "markdown",
   "metadata": {},
   "source": [
    "One way to represent this analysis graphically is by using the dimension reduction (specifically t-SNE). \n",
    "\n",
    "It must be specified that the best practice is to use dimension reduction with sparce matrices (not the case w2v). However, if we take into account that some information is lost in the process and that the relative distances are not precise, this view can still be useful to give an idea of how the words are distributed. \n",
    "\n",
    "In particular, it is confirmed that the words in the vocabulary are pretty much comparable and similar, and therefore only a limited amount has vectors significately far from the others."
   ]
  },
  {
   "cell_type": "code",
   "execution_count": 34,
   "metadata": {},
   "outputs": [
    {
     "data": {
      "image/png": "[encoded data removed]",
      "text/plain": [
       "<Figure size 432x288 with 1 Axes>"
      ]
     },
     "metadata": {
      "needs_background": "light"
     },
     "output_type": "display_data"
    }
   ],
   "source": [
    "sb.set_context('notebook')\n",
    "\n",
    "Z = w2v_model.wv[w2v_model.wv.vocab]\n",
    "\n",
    "tsne = TSNE(n_components=2)\n",
    "Z_tsne_w2v = tsne.fit_transform(Z)\n",
    "\n",
    "plt.scatter(Z_tsne_w2v[:, 0], Z_tsne_w2v[:, 1])\n",
    "plt.show()"
   ]
  },
  {
   "cell_type": "markdown",
   "metadata": {},
   "source": [
    "Now we implement the Doc2Vec representation "
   ]
  },
  {
   "cell_type": "code",
   "execution_count": 35,
   "metadata": {},
   "outputs": [],
   "source": [
    "corpus_d2v = []\n",
    "\n",
    "for row in clean_df.iterrows():\n",
    "    label = row[1].category_code\n",
    "    text = row[1].overview\n",
    "    corpus_d2v.append(TaggedDocument(words=text, \n",
    "                                 tags=[str(label)]))"
   ]
  },
  {
   "cell_type": "code",
   "execution_count": null,
   "metadata": {},
   "outputs": [],
   "source": [
    "d2v_model = Doc2Vec(vector_size=100, \n",
    "                    window=15,\n",
    "                    #hs=0,\n",
    "                    #sample=0.000001,\n",
    "                    #negative=5,\n",
    "                    min_count=40,\n",
    "                    workers=10,\n",
    "                    epochs=10,\n",
    "                    #dm=1, \n",
    "                    dbow_words=1                    \n",
    "                   )\n",
    "\n",
    "d2v_model.build_vocab(corpus_d2v)\n",
    "\n",
    "d2v_model.train(corpus_d2v, total_examples=d2v_model.corpus_count, epochs=d2v_model.epochs)"
   ]
  },
  {
   "cell_type": "markdown",
   "metadata": {},
   "source": [
    "We can use the model to find the most similar categories. The first result to be shown for each target_doc , which is the most similar category, are intuitive to interpret: The health and industrial category are the most similar due to the more \"technical\" lexicon required in their description compared with the more \"marketing & communication\" one used by startups in the entertainment or mobile app. \n",
    "\n",
    "On the other hand it is harder to understand the categories that come second, which more likely require a more profound analysis in the style."
   ]
  },
  {
   "cell_type": "code",
   "execution_count": null,
   "metadata": {},
   "outputs": [],
   "source": [
    "target_doc = 'industry'\n",
    "\n",
    "similar_docs = d2v_model.docvecs.most_similar(target_doc, topn=2)\n",
    "print(similar_docs)"
   ]
  },
  {
   "cell_type": "code",
   "execution_count": null,
   "metadata": {
    "scrolled": true
   },
   "outputs": [],
   "source": [
    "target_doc = 'health'\n",
    "\n",
    "similar_docs = d2v_model.docvecs.most_similar(target_doc, topn=2)\n",
    "print(similar_docs)"
   ]
  },
  {
   "cell_type": "code",
   "execution_count": null,
   "metadata": {},
   "outputs": [],
   "source": [
    "target_doc = 'entertainment'\n",
    "\n",
    "similar_docs = d2v_model.docvecs.most_similar(target_doc, topn=2)\n",
    "print(similar_docs)"
   ]
  },
  {
   "cell_type": "code",
   "execution_count": null,
   "metadata": {},
   "outputs": [],
   "source": [
    "target_doc = 'information_technology'\n",
    "\n",
    "similar_docs = d2v_model.docvecs.most_similar(target_doc, topn=2)\n",
    "print(similar_docs)"
   ]
  },
  {
   "cell_type": "code",
   "execution_count": null,
   "metadata": {},
   "outputs": [],
   "source": [
    "target_doc = 'other'\n",
    "\n",
    "similar_docs = d2v_model.docvecs.most_similar(target_doc, topn=2)\n",
    "print(similar_docs)"
   ]
  },
  {
   "cell_type": "markdown",
   "metadata": {},
   "source": [
    "In order to understand more it is useful to retrieve the most similar words per each of those \"unexpectedly similar\" categories, such as health and mobile_app. Even a loger list can be retrieve in other to search similarity by changing the \"topn\" variable, but the result is always the same: "
   ]
  },
  {
   "cell_type": "code",
   "execution_count": null,
   "metadata": {
    "scrolled": true
   },
   "outputs": [],
   "source": [
    "d2v_model.wv.most_similar([d2v_model.docvecs['health']], topn = 5)"
   ]
  },
  {
   "cell_type": "code",
   "execution_count": null,
   "metadata": {
    "scrolled": true
   },
   "outputs": [],
   "source": [
    "d2v_model.wv.most_similar([d2v_model.docvecs['mobile_app']], topn = 5)"
   ]
  },
  {
   "cell_type": "markdown",
   "metadata": {},
   "source": [
    "The doc2vec model is correctly working since the words displayed indeed are the most similar to each category, but there is no noticeable similarity between the two lists that would explain the result of the most_similar method. This is the main limit of continuous representations: they are not intepretable in each dimension of the vectors, so we cannot further investigate them with the aim of finding a causal explanation of the phenomenon. \n",
    "\n",
    "We can conclude that the similarity across categories is only partially addressed by the doc2vec model by finding coherently only the main similar category to the one provided"
   ]
  },
  {
   "cell_type": "markdown",
   "metadata": {},
   "source": [
    "Also in this case the graphical representation through dimension reduction gives only an \"intuitive\" representation and is to be intepreted with the caveats specified above"
   ]
  },
  {
   "cell_type": "code",
   "execution_count": null,
   "metadata": {},
   "outputs": [],
   "source": [
    "doc_matr = d2v_model.docvecs.vectors_docs\n",
    "k = 2\n",
    "\n",
    "svd = TruncatedSVD(n_components=k)\n",
    "U = svd.fit_transform(doc_matr)"
   ]
  },
  {
   "cell_type": "code",
   "execution_count": null,
   "metadata": {},
   "outputs": [],
   "source": [
    "fig, ax = plt.subplots(figsize=(18,5))\n",
    "ax.spines['top'].set_visible(False)\n",
    "ax.spines['right'].set_visible(False)\n",
    "ax.spines['left'].set_position(('outward', 5))\n",
    "ax.spines['bottom'].set_position(('outward', 5))\n",
    "plt.scatter(U[:,0], U[:,1])\n",
    "for i, txt in enumerate(list(d2v_model.docvecs.doctags.keys())):\n",
    "     plt.annotate(txt, (U[i,0]+0.0005, U[i,1]+0.0005))\n",
    "        "
   ]
  },
  {
   "cell_type": "markdown",
   "metadata": {},
   "source": [
    "### 2.2 TF-IDF Analysis"
   ]
  },
  {
   "cell_type": "markdown",
   "metadata": {},
   "source": [
    "TF-IDF allows to identify the most important words in the corpus avoiding the bias that using the mere frequence would present. Regarding the parameters, we still chose a relatively high maximum presence of the words in order to remove terminology related to the existence of the company rather than the industry in which it is operating. \n",
    "\n",
    "Sublinear  = True is fundamental because it will allow us in the last section to analyze new overviews that include words that do not occur in the original corpus.  "
   ]
  },
  {
   "cell_type": "code",
   "execution_count": 20,
   "metadata": {},
   "outputs": [],
   "source": [
    "tfidf_vectorizer = TfidfVectorizer(ngram_range=(1,1), \n",
    "                                   stop_words='english', \n",
    "                                   analyzer='word', \n",
    "                                   min_df=0.001, \n",
    "                                   max_df=0.7, \n",
    "                                   sublinear_tf=True)\n",
    "\n",
    "X_tfidf = tfidf_vectorizer.fit_transform(df2.overview.to_list())\n",
    "\n"
   ]
  },
  {
   "cell_type": "markdown",
   "metadata": {},
   "source": [
    "Visualization is useful to understand what is actually happening using tfidf_vectorizer. \n",
    "We represent the tf-idf on the x axis, which is the new \"score\" which is assigned to each word. The idf (inverse of the document frequency) is represented on the y axis and is the weight that allows to remove words that appear intensively in the whole corpus. Finally, the size of the points is proportional to the term frequency. \n",
    "\n",
    "\n",
    "Instead of focusing on specific words and adding labels, it is interesting to analyze the general trend. The great majority of words in the corpus are regarded with a low score, except for few that have a good trade-off between their raw frequency and the idf, which appear with larger points on the lower-right part of the graph."
   ]
  },
  {
   "cell_type": "code",
   "execution_count": null,
   "metadata": {},
   "outputs": [],
   "source": [
    "X_cv = vectorizer.fit_transform(df2.overview.apply(str).to_list()) \n",
    "\n",
    "word_counts = X_cv.toarray()\n",
    "word_tfidf = X_tfidf.toarray()\n",
    "\n",
    "df_tfidf = pd.DataFrame(data = {'word': vectorizer.get_feature_names(),\n",
    "                                'tf': word_counts.sum(axis = 0),\n",
    "                                'idf': tfidf_vectorizer.idf_,\n",
    "                                'tfidf': word_tfidf.sum(axis=0)})\n",
    "\n",
    "df_tfidf = df_tfidf.sort_values(['tfidf','tf','idf'])"
   ]
  },
  {
   "cell_type": "code",
   "execution_count": null,
   "metadata": {
    "scrolled": false
   },
   "outputs": [],
   "source": [
    "fig, ax = plt.subplots(figsize = (8,6))\n",
    "\n",
    "df_tfidf['tf'] /= 10\n",
    "\n",
    "df_tfidf.plot.scatter( x = 'tfidf',\n",
    "                        y = 'idf',\n",
    "                        s = np.array(df_tfidf['tf']),\n",
    "                        ax = ax,\n",
    "                        alpha = 0.3,\n",
    "                        edgecolor = 'k',\n",
    "                        ylim = (2,8),\n",
    "                        xlim = (0,400)\n",
    "                     )"
   ]
  },
  {
   "cell_type": "markdown",
   "metadata": {},
   "source": [
    "###  2.3 Topic Modeling with Latent Dirichlet Allocation"
   ]
  },
  {
   "cell_type": "markdown",
   "metadata": {},
   "source": [
    "Now we reach the most informative part of this analysis. We start by implementing a dictionary and a Bag of Words in order to prepare the optimal corpus for Topic Modeling."
   ]
  },
  {
   "cell_type": "code",
   "execution_count": 21,
   "metadata": {},
   "outputs": [],
   "source": [
    "processed_overviews = clean_df.overview.to_list()\n",
    "dictionary = Dictionary(processed_overviews)\n",
    "dictionary.filter_extremes(no_below=10, no_above=0.5, keep_n=100000)\n",
    "bow_corpus = [dictionary.doc2bow(doc) for doc in processed_overviews]\n",
    "tfidf = models.TfidfModel(bow_corpus) \n",
    "model_corpus = tfidf[bow_corpus] "
   ]
  },
  {
   "cell_type": "markdown",
   "metadata": {},
   "source": [
    "The next step is finding the best number of topics by evaluating coherence through Cross Validation.\n",
    "\n",
    "\n",
    "**Warning:         \n",
    "the following cell requires more time to be implemented. It is suggested to procede directly to the implementation of the LDAmodel**"
   ]
  },
  {
   "cell_type": "code",
   "execution_count": 22,
   "metadata": {},
   "outputs": [
    {
     "name": "stdout",
     "output_type": "stream",
     "text": [
      "2 0.3484167406426366\n",
      "3 0.36615716019952943\n",
      "4 0.3713901132565101\n",
      "5 0.3866152419584552\n",
      "6 0.36738295514653485\n",
      "7 0.361010326819962\n",
      "8 0.34574945386431166\n",
      "9 0.3578930788355431\n",
      "10 0.34916934089125135\n",
      "11 0.33392774263954267\n",
      "12 0.35493465185206646\n",
      "13 0.36408840115952157\n",
      "14 0.3591974983320965\n"
     ]
    }
   ],
   "source": [
    "coherence_values = []\n",
    "\n",
    "dev_size = 15000\n",
    "\n",
    "for num_topics in range(2, 15):\n",
    "    model = LdaMulticore(corpus=model_corpus[:dev_size], \n",
    "                         id2word=dictionary, \n",
    "                         num_topics=num_topics, random_state=42)\n",
    "\n",
    "    coherencemodel_cv = CoherenceModel(model=model, \n",
    "                                       texts=processed_overviews[:dev_size], \n",
    "                                       dictionary=dictionary, \n",
    "                                       coherence='c_v')\n",
    "\n",
    "\n",
    "    cv_score = coherencemodel_cv.get_coherence()\n",
    "    \n",
    "    print(num_topics, cv_score)\n",
    "    coherence_values.append((num_topics,cv_score))"
   ]
  },
  {
   "cell_type": "code",
   "execution_count": 23,
   "metadata": {},
   "outputs": [
    {
     "data": {
      "image/png": "[encoded data removed]",
      "text/plain": [
       "<Figure size 432x288 with 1 Axes>"
      ]
     },
     "metadata": {
      "needs_background": "light"
     },
     "output_type": "display_data"
    }
   ],
   "source": [
    "%matplotlib inline\n",
    "sb.set_context('notebook') # use large font\n",
    "scores = pd.DataFrame(coherence_values, columns=['num_topics','CV'])\n",
    "plt.plot(scores['num_topics'], scores['CV']);"
   ]
  },
  {
   "cell_type": "markdown",
   "metadata": {},
   "source": [
    "Interestingly, the optimal number found by the model is 5. This is not significantely different from our initial re-arranging of categories into 6 \"Macro\" ones. However, even if the number that resulted had been 6 it still did not imply that our preliminary discrimination was correct. In fact, the topics identified by the model are not directly linked to the traditional ones\n",
    "\n",
    "This is indeed important to further develop and thus we procede by implementing the model and finding the descriptors for each of the topics. "
   ]
  },
  {
   "cell_type": "code",
   "execution_count": 31,
   "metadata": {},
   "outputs": [],
   "source": [
    "num_topics = 5\n",
    "num_passes = 10\n",
    "chunk_size = len(model_corpus) * num_passes/200\n",
    "\n",
    "model = LdaMulticore(num_topics=num_topics, \n",
    "                     corpus=model_corpus,  \n",
    "                     id2word=dictionary, \n",
    "                     workers= 10, \n",
    "                     passes=num_passes, \n",
    "                     chunksize=chunk_size, \n",
    "                     alpha=0.5,\n",
    "                     random_state=71\n",
    "                    )"
   ]
  },
  {
   "cell_type": "code",
   "execution_count": 34,
   "metadata": {},
   "outputs": [
    {
     "name": "stdout",
     "output_type": "stream",
     "text": [
      "1 \"energy\", \"cloud\", \"card\", \"power\"\n",
      "2 \"health\", \"help\", \"healthcare\", \"care\"\n",
      "3 \"game\", \"industry\", \"developers\", \"market\"\n",
      "4 \"develop\", \"development\", \"systems\", \"technologies\"\n",
      "5 \"share\", \"people\", \"brand\", \"create\"\n"
     ]
    }
   ],
   "source": [
    "#71\n",
    "topic_sep = re.compile(\"0\\.[0-9]{3}\\*\") # removing formatting\n",
    "\n",
    "model_topics = [(topic_no, re.sub(topic_sep, '', model_topic).split(' + ')) \n",
    "                for topic_no, model_topic in\n",
    "                model.print_topics(num_topics=num_topics, num_words=10)]\n",
    "\n",
    "descriptors = []\n",
    "for i, m in model_topics:\n",
    "    print(i+1, \", \".join(m[:4]))\n",
    "    descriptors.append(\", \".join(m[:2]).replace('\"', ''))"
   ]
  },
  {
   "cell_type": "markdown",
   "metadata": {},
   "source": [
    "Rather than focusing on the specific words it is interesting to point out that the main descriptors do not answer to the question \"What does this startup do? / How does this startup operate\", which would seem logical. On the contrary it seem to answer to the question: \"Which services / product does this company offer to their client?\". Except for the first category, which is a bit ambiguous, we can see \"care\" , \"game\", \"development\"; \"share\". \n",
    "\n",
    "This is an important insight on the type of communication on the platform. Next, we attempt to find an approximation of each of this topics that allows for more clarity in the final section."
   ]
  },
  {
   "cell_type": "code",
   "execution_count": 35,
   "metadata": {},
   "outputs": [],
   "source": [
    "topic_names = {1:'Industry',\n",
    "                2:'Healthcare',\n",
    "                3:'Games',\n",
    "                4:'IT',\n",
    "                5:'Marketing',\n",
    "              \n",
    "}"
   ]
  },
  {
   "cell_type": "markdown",
   "metadata": {},
   "source": [
    "We now define a function that returns for a given Overview its text and the topics associated with it. "
   ]
  },
  {
   "cell_type": "code",
   "execution_count": 36,
   "metadata": {},
   "outputs": [],
   "source": [
    "def lda_topic(new_text): \n",
    "    print(new_text)\n",
    "    print(\"                                 \")\n",
    "    bag = dictionary.doc2bow(new_text)\n",
    "    for index, score in sorted(model[bag], key=lambda tup: -1*tup[1]):\n",
    "        print(\"Topic: {} \\nScore: {} \\t \\n \".format(topic_names[index+1], score)) "
   ]
  },
  {
   "cell_type": "markdown",
   "metadata": {},
   "source": [
    "And try it on a random startup in the corpus "
   ]
  },
  {
   "cell_type": "code",
   "execution_count": 37,
   "metadata": {
    "scrolled": true
   },
   "outputs": [
    {
     "name": "stdout",
     "output_type": "stream",
     "text": [
      "['cartera', 'commerce', 'lead', 'provider', 'card', 'link', 'market', 'increase', 'revenue', 'customer', 'loyalty', 'merchants', 'bank', 'issuers', 'loyalty', 'program', 'merchants', 'cartera', 'power', 'industry', 'largest', 'card', 'link', 'advertise', 'network', 'target', 'shop', 'million', 'loyal', 'consumers', 'track', 'store', 'sales', 'bank', 'issuers', 'loyalty', 'program', 'cartera', 'industry', 'comprehensive', 'card', 'link', 'offer', 'power', 'personalize', 'store', 'shop', 'program', 'build', 'consumer', 'engagement', 'maximize', 'card', 'spend', 'create', 'revenue', 'stream', 'cartera', 'deliver', 'card', 'link', 'multiple', 'digital', 'market', 'channel', 'include', 'websites', 'bank', 'email', 'browser', 'apps', 'largest', 'financial', 'institutions', 'largest', 'airlines', 'merchant', 'advertisers', 'drive', 'incremental', 'revenue', 'cartera', 'fully', 'manage', 'performance', 'headquarter', 'lexington', 'significant', 'operations', 'atlanta']\n",
      "                                 \n",
      "Topic: Industry \n",
      "Score: 0.5304481387138367 \t \n",
      " \n",
      "Topic: Marketing \n",
      "Score: 0.4228241741657257 \t \n",
      " \n",
      "Topic: IT \n",
      "Score: 0.0293534267693758 \t \n",
      " \n"
     ]
    }
   ],
   "source": [
    "lda_topic(clean_df.loc['cartera commerce','overview'])"
   ]
  },
  {
   "cell_type": "markdown",
   "metadata": {},
   "source": [
    "In the last section of this project we will apply it to unseen documents."
   ]
  },
  {
   "cell_type": "markdown",
   "metadata": {},
   "source": [
    "###  2.4 Language Models"
   ]
  },
  {
   "cell_type": "markdown",
   "metadata": {},
   "source": [
    "In this case, for the corpus generation, we refer to the DataFrame df2, since we are interested in whole sentences and not in lists of lemmatized words such as those that are included in clean_df."
   ]
  },
  {
   "cell_type": "code",
   "execution_count": 42,
   "metadata": {},
   "outputs": [],
   "source": [
    "corpus_lm = [line.strip().split() for line in df2.overview.to_list()]"
   ]
  },
  {
   "cell_type": "markdown",
   "metadata": {},
   "source": [
    "Let's implement the model and compute the logProbability that a sentence belongs to the corpus of company overviews "
   ]
  },
  {
   "cell_type": "code",
   "execution_count": 43,
   "metadata": {},
   "outputs": [],
   "source": [
    "smoothing = 0.001\n",
    "START = '_***_'\n",
    "STOP = '_STOP_'\n",
    "counts = defaultdict(lambda: defaultdict(lambda: smoothing))\n",
    "for sentence in corpus_lm:\n",
    "    tokens = [START, START] + sentence + [STOP]\n",
    "    for u, v, w in ngrams(tokens, 3):\n",
    "        counts[(u, v)][w] += 1\n",
    "def logP(u, v, w):\n",
    "    return np.log(counts[(u, v)][w]) - np.log(sum(counts[(u, v)].values()))\n",
    "def sentence_logP(S):\n",
    "    tokens = [START, START] + S + [STOP]\n",
    "    return sum([logP(u, v, w) for u, v, w in ngrams(tokens, 3)])"
   ]
  },
  {
   "cell_type": "code",
   "execution_count": 44,
   "metadata": {
    "scrolled": true
   },
   "outputs": [
    {
     "data": {
      "text/plain": [
       "-80.76587894270321"
      ]
     },
     "execution_count": 44,
     "metadata": {},
     "output_type": "execute_result"
    }
   ],
   "source": [
    "sentence_logP('Cardiosolutions was founded in  by STD Med, Inc., a leading medical device manufacturer, in order to develop less invasive alternatives to open surgical procedures addressing the mitral valve of the heart'.split())"
   ]
  },
  {
   "cell_type": "code",
   "execution_count": 45,
   "metadata": {
    "scrolled": true
   },
   "outputs": [
    {
     "data": {
      "text/plain": [
       "-98.01038802437583"
      ]
     },
     "execution_count": 45,
     "metadata": {},
     "output_type": "execute_result"
    }
   ],
   "source": [
    "sentence_logP(['the', 'company', 'is', 'not','efficient', 'and', 'it', 'should', 'not', 'be', 'awarded', 'with', 'any', 'funding'])"
   ]
  },
  {
   "cell_type": "markdown",
   "metadata": {},
   "source": [
    "We can see that language models seem to be able to provide a measure of the likelihood of a sentence. However, it is clear that the  measures of the scores should not be interpreted as relative distances. In fact, when providing an overview which is indeed inside the corpus and comparing it with a random text, the first one does not receive a significantly \"better\" score. This represents one of the main limits of our analysis up to now and therefore the sentence likelihood analysis of new Overviews will not be included in th final section. "
   ]
  },
  {
   "cell_type": "markdown",
   "metadata": {},
   "source": [
    "###  2.4 Cluster Analysis"
   ]
  },
  {
   "cell_type": "markdown",
   "metadata": {},
   "source": [
    "Our last analysis consists in Clustering the data, investigating whether the grouping is somewhat similar to the one resulting from topic modeling. One important clarification is that Cluster Analysis is implemented recurring to dimensionality reduction in order to speed up the process. Therfore, our analysis will take into account the loss of information. "
   ]
  },
  {
   "cell_type": "markdown",
   "metadata": {},
   "source": [
    "We start by preliminarly defining a function that allows to plot the clusters"
   ]
  },
  {
   "cell_type": "code",
   "execution_count": 46,
   "metadata": {},
   "outputs": [],
   "source": [
    "sb.set_context('notebook')\n",
    "\n",
    "def plot_vectors(vectors, title='VIZ', labels=None, dimensions=3):\n",
    "    fig = plt.figure(figsize=(10,10))\n",
    "    df = pd.DataFrame(data={'x':vectors[:,0], 'y': vectors[:,1]})\n",
    "    if labels is not None:\n",
    "        df['label'] = labels\n",
    "    else:\n",
    "        df['label'] = [''] * len(df)\n",
    "    cm = plt.get_cmap('winter') # choose the color palette\n",
    "    n_labels = len(df.label.unique())\n",
    "    label_colors = [cm(1. * i/n_labels) for i in range(n_labels)]\n",
    "    cMap = colors.ListedColormap(label_colors)\n",
    "        \n",
    "    # plot in 3 dimensions\n",
    "    if dimensions == 3:\n",
    "        df['z'] = vectors[:,2]\n",
    "        sb.set_context('paper')\n",
    "        ax = fig.add_subplot(111, projection='3d')\n",
    "        frame1 = plt.gca() \n",
    "        frame1.axes.xaxis.set_ticklabels([])\n",
    "        frame1.axes.yaxis.set_ticklabels([])\n",
    "        frame1.axes.zaxis.set_ticklabels([])\n",
    "\n",
    "\n",
    "        for l, label in enumerate(df.label.unique()):\n",
    "            df2 = df[df.label == label]\n",
    "            color_values = [label_colors[l]] * len(df2)\n",
    "            ax.scatter(df2['x'], df2['y'], df2['z'], \n",
    "                       c=color_values, \n",
    "                       cmap=cMap, \n",
    "                       edgecolor='black', \n",
    "                       label=label, \n",
    "                       alpha=0.4, \n",
    "                       s=100)\n",
    "      \n",
    "    # plot in 2 dimensions\n",
    "    elif dimensions == 2:\n",
    "        sb.set_context('talk')\n",
    "        ax = fig.add_subplot(111)\n",
    "        frame1 = plt.gca() \n",
    "        frame1.axes.xaxis.set_ticklabels([])\n",
    "        frame1.axes.yaxis.set_ticklabels([])\n",
    "\n",
    "        for l, label in enumerate(df.label.unique()):\n",
    "            df2 = df[df.label == label]\n",
    "            color_values = [label_colors[l]] * len(df2)\n",
    "            ax.scatter(df2['x'], df2['y'], \n",
    "                       c=color_values, \n",
    "                       cmap=cMap, \n",
    "                       edgecolor='black', \n",
    "                       label=label, \n",
    "                       alpha=0.4, \n",
    "                       s=100)\n",
    "\n",
    "    else:\n",
    "        raise NotImplementedError()\n",
    "\n",
    "    plt.title(title)\n",
    "     plt.legend()\n",
    "    plt.show()"
   ]
  },
  {
   "cell_type": "markdown",
   "metadata": {},
   "source": [
    "The best number of clusters can be chosen based on the Silhouette method.\n",
    "**Warning : The following cell requires more time**\n",
    "The first code of section 2.2 must be runned in order to provide the X_tfidf matrix"
   ]
  },
  {
   "cell_type": "code",
   "execution_count": 50,
   "metadata": {
    "scrolled": true
   },
   "outputs": [
    {
     "name": "stdout",
     "output_type": "stream",
     "text": [
      "2 0.03869976210777165\n",
      "3 0.04262595007767228\n",
      "4 0.04361534893624308\n",
      "5 0.04803688259057936\n",
      "6 0.029847766758380714\n",
      "7 0.032290809892312845\n",
      "8 0.036927517355633314\n",
      "9 0.03873025256324724\n"
     ]
    }
   ],
   "source": [
    "X2 = TruncatedSVD(n_components=50).fit_transform(X_tfidf)\n",
    "sample = np.random.choice(len(X2), replace=False, size=8000)\n",
    "\n",
    "silhouettes = []\n",
    "\n",
    "K = range(2, 10)\n",
    "\n",
    "for c in K:\n",
    "    agg_clustering = AgglomerativeClustering(n_clusters=c)\n",
    "\n",
    "    agg_cluster_ids = agg_clustering.fit_predict(X2[sample])\n",
    "    score = silhouette_score(X2[sample], agg_cluster_ids)\n",
    "    silhouettes.append(score)\n",
    "    print(c, score)\n",
    "    \n"
   ]
  },
  {
   "cell_type": "code",
   "execution_count": 51,
   "metadata": {},
   "outputs": [
    {
     "data": {
      "image/png": "[encoded data removed]",
      "text/plain": [
       "<Figure size 720x360 with 1 Axes>"
      ]
     },
     "metadata": {
      "needs_background": "light"
     },
     "output_type": "display_data"
    }
   ],
   "source": [
    "fig, ax = plt.subplots(figsize=(10,5))\n",
    "plt.plot(K, silhouettes, 'bx-')\n",
    "plt.xlabel('k')\n",
    "plt.ylabel('Silhouette score')\n",
    "plt.title('Silhouette Method For Optimal k')\n",
    "plt.show()"
   ]
  },
  {
   "cell_type": "markdown",
   "metadata": {},
   "source": [
    "It is interesting to see that also the optimal number of clusters is 5. To better undestand the result we find these clusters and visualize them. To do so, we first run Agglomerative Clustering to identify the centroids that will represent the input for the k-means algorithm.\n"
   ]
  },
  {
   "cell_type": "code",
   "execution_count": 52,
   "metadata": {},
   "outputs": [],
   "source": [
    "k = 5\n",
    "\n",
    "# We reduce the dimensionality of the input, to speed up clustering\n",
    "X2 = TruncatedSVD(n_components=300).fit_transform(X_tfidf)\n",
    "\n",
    "agg = AgglomerativeClustering(n_clusters=k)"
   ]
  },
  {
   "cell_type": "code",
   "execution_count": 53,
   "metadata": {},
   "outputs": [],
   "source": [
    "sample = np.random.choice(len(X2), replace=False, size=8000)\n",
    "agg_sample_ids = agg.fit_predict(X2[sample])"
   ]
  },
  {
   "cell_type": "code",
   "execution_count": 54,
   "metadata": {},
   "outputs": [
    {
     "name": "stdout",
     "output_type": "stream",
     "text": [
      "(5, 300)\n"
     ]
    }
   ],
   "source": [
    "centroids = np.array([X2[sample][agg_sample_ids == c].mean(axis=0) for c in range(k)])\n",
    "print(centroids.shape)"
   ]
  },
  {
   "cell_type": "code",
   "execution_count": 55,
   "metadata": {
    "scrolled": false
   },
   "outputs": [
    {
     "data": {
      "text/plain": [
       "KMeans(init=array([[ 0.134535  , -0.04389081,  0.01027786, ...,  0.00032192,\n",
       "        -0.00020603,  0.00045842],\n",
       "       [ 0.12133416,  0.14267805,  0.10120784, ...,  0.00096533,\n",
       "        -0.00030372,  0.00123507],\n",
       "       [ 0.09437071, -0.10264383,  0.08640365, ..., -0.00493992,\n",
       "        -0.00396126,  0.00550196],\n",
       "       [ 0.1543757 ,  0.05267031, -0.03063349, ..., -0.00028143,\n",
       "         0.00019653, -0.00071889],\n",
       "       [ 0.15088932, -0.05650898,  0.09041123, ..., -0.00104454,\n",
       "        -0.00252272, -0.00080625]]),\n",
       "       n_clusters=5, n_init=1)"
      ]
     },
     "execution_count": 55,
     "metadata": {},
     "output_type": "execute_result"
    }
   ],
   "source": [
    "km = KMeans(n_clusters=k, \n",
    "            n_init = 1,\n",
    "            init=centroids)\n",
    "\n",
    "# fit it on the full data set\n",
    "km.fit(X2)"
   ]
  },
  {
   "cell_type": "code",
   "execution_count": 56,
   "metadata": {
    "scrolled": true
   },
   "outputs": [
    {
     "data": {
      "image/png": "[encoded data removed]",
      "text/plain": [
       "<Figure size 720x720 with 1 Axes>"
      ]
     },
     "metadata": {
      "needs_background": "light"
     },
     "output_type": "display_data"
    }
   ],
   "source": [
    "plot_sample = np.random.choice(len(X2), replace=False, size=100)\n",
    "plot_vectors(X2[plot_sample], labels=km.labels_[plot_sample])"
   ]
  },
  {
   "cell_type": "code",
   "execution_count": 57,
   "metadata": {
    "scrolled": true
   },
   "outputs": [
    {
     "data": {
      "image/png": "[encoded data removed]",
      "text/plain": [
       "<Figure size 720x720 with 1 Axes>"
      ]
     },
     "metadata": {
      "needs_background": "light"
     },
     "output_type": "display_data"
    }
   ],
   "source": [
    "plot_vectors(X2[plot_sample], labels=km.labels_[plot_sample], dimensions=2, )"
   ]
  },
  {
   "cell_type": "markdown",
   "metadata": {},
   "source": [
    "From the visualization it can be seen that the categories are surely intertwined, but also sufficienlty distinguishable . However, it must be ept in mind that dimension reduction has taken place, so the representation might not be completely sound.\n",
    "\n",
    "One last consideration is that the resut of the Clustering is coherent with the result of topic analysis, in the sense that the corpus is divided into 5 categories, as we visually represented above. "
   ]
  },
  {
   "cell_type": "markdown",
   "metadata": {},
   "source": [
    "## 3. Models Testing & Conclusions"
   ]
  },
  {
   "cell_type": "markdown",
   "metadata": {},
   "source": [
    "Let's start the final testing of our models with one of the most interesting uses of tf-idf, which is is to find the most indicative words inside unseen new overviews. \n"
   ]
  },
  {
   "cell_type": "code",
   "execution_count": 58,
   "metadata": {
    "scrolled": false
   },
   "outputs": [
    {
     "name": "stdout",
     "output_type": "stream",
     "text": [
      "[array(['deep', 'learning', 'commercial'], dtype='<U18'), array(['balance', 'tasks', 'collaborate'], dtype='<U18')]\n"
     ]
    }
   ],
   "source": [
    "feature_names = np.array(tfidf_vectorizer.get_feature_names())\n",
    "\n",
    "\n",
    "new_doc = [\"Contentyze develops a content generation platform, merging deep learning research with commercial applications in marketing, media and e-commerce.\",\n",
    "           'Balance is an enterprise social software platform to help personal finance professionals collaborate and engage with their clients to more efficiently manage financial tasks.']\n",
    "responses = tfidf_vectorizer.transform(new_doc)\n",
    "\n",
    "\n",
    "def get_top_tf_idf_words(response, top_n=3):\n",
    "    sorted_nzs = np.argsort(response.data)[:-(top_n+1):-1]\n",
    "    return feature_names[response.indices[sorted_nzs]]\n",
    "  \n",
    "print([get_top_tf_idf_words(response,3) for response in responses])"
   ]
  },
  {
   "cell_type": "markdown",
   "metadata": {},
   "source": [
    "As it can be seen the model is able to grasp the most important words. In the first case we have the deep-learning and commercial, thus understandin the technologies used but also the aim of the business. \n",
    "In the second case it identifies the name and the most important features of the service offered by the company."
   ]
  },
  {
   "cell_type": "markdown",
   "metadata": {},
   "source": [
    "Next, we use Language Models to generate new Overviews."
   ]
  },
  {
   "cell_type": "code",
   "execution_count": 59,
   "metadata": {},
   "outputs": [],
   "source": [
    "def generate():\n",
    "    result = [START, START]\n",
    "    next_word = sample_next_word(result[-2], result[-1])\n",
    "    result.append(next_word)\n",
    "    while next_word != STOP:\n",
    "        next_word = sample_next_word(result[-2], result[-1])\n",
    "        result.append(next_word)    \n",
    "    return ' '.join(result[2:-1])\n",
    "\n",
    "def sample_next_word(u, v):\n",
    "    keys, values = zip(*counts[(u, v)].items())\n",
    "    values = np.array(values)\n",
    "    values /= values.sum() # create probability distro\n",
    "    sample = np.random.multinomial(1, values) # pick one position\n",
    "    return keys[np.argmax(sample)]"
   ]
  },
  {
   "cell_type": "code",
   "execution_count": 60,
   "metadata": {},
   "outputs": [
    {
     "data": {
      "text/plain": [
       "'SPOOFEM.COM is a web hosting control panel with tightly integrated with popular advertising networks and apps, creating a \\x93virtual endcap\\x94 anywhere that product reviews by genuine holiday makers allow the community to contribute - no longer required to enable rapid detection of autism. Autism Spectrum Disorders. This perplexing neurologic condition is believed to be granted with additional offices in Alexandria, Va., with offices in Denmark where the sand drops out inside the corporation to understand the sensory experience conducive to wellness and fun. The Influitive vision is to redefine the state of the core of the millions suffering from inflammatory bowel disease and allergic rhinitis. Within the Company have worked in social media. Smarps main product, FitOrbit, is an EPC provider of interconnection, colocation and private investors to fund its future product developments.The company products are mainly in the cloud. CloudHealth allows companies to launch core titles, each an active member.'"
      ]
     },
     "execution_count": 60,
     "metadata": {},
     "output_type": "execute_result"
    }
   ],
   "source": [
    "generate()"
   ]
  },
  {
   "cell_type": "markdown",
   "metadata": {},
   "source": [
    "From different attempts it can be inferred that most artificially-generated overviews include:  \n",
    "    **Value proposition  & Product description** (both always reproduced by the function)  \n",
    "    **Geographical locations** (sometimes present)  \n",
    "One crucial downside is that the Company categorization is not taken into account, therefore different topics (healthcare, advertising, high-tech) are mixed. One solution could be creating sub-corpuses and train the model on each of them \n",
    "    "
   ]
  },
  {
   "cell_type": "markdown",
   "metadata": {},
   "source": [
    "Lastly, we also apply the Topic Model to recently added StartUps, one operating in healthcare and the second in applied IT. "
   ]
  },
  {
   "cell_type": "code",
   "execution_count": 65,
   "metadata": {},
   "outputs": [],
   "source": [
    "\n",
    "text1 = \"\"\"Babylon is a digital health service provider that combines AI technology with the medical \n",
    "expertise of humans. Babylon delivers full access to healthcare, including personalized health assessments, \n",
    "treatment advice, and face-to-face appointments with a doctor 24/7. Babylon’s mission is to put an accessible \n",
    "and affordable health service in the hands of every person on earth. With the Babylon app, you can talk to a \n",
    "physician within minutes via phone or video call, ask simple medical questions via their text service and monitor \n",
    "your health with their comprehensive tracking system. The Babylon app is everything you need to \n",
    "proactively manage your healthcare.\"\"\"\n",
    "\n",
    "text2 = \"\"\"\n",
    "Contentyze develops a content generation platform, integrating cutting edge deep learning research with commercial applications in marketing and e ommerce.\n",
    "\"\"\"\n"
   ]
  },
  {
   "cell_type": "code",
   "execution_count": 66,
   "metadata": {},
   "outputs": [],
   "source": [
    "text1_p = preprocess(text1)\n",
    "text2_p = preprocess(text2)"
   ]
  },
  {
   "cell_type": "code",
   "execution_count": 67,
   "metadata": {
    "scrolled": true
   },
   "outputs": [
    {
     "name": "stdout",
     "output_type": "stream",
     "text": [
      "['babylon', 'digital', 'health', 'provider', 'combine', 'medical', 'expertise', 'humans', 'babylon', 'deliver', 'access', 'healthcare', 'include', 'personalize', 'health', 'assessments', 'treatment', 'advice', 'face', 'face', 'appointments', 'doctor', 'babylon', 'mission', 'accessible', 'affordable', 'health', 'hand', 'person', 'earth', 'babylon', 'talk', 'physician', 'minutes', 'phone', 'video', 'simple', 'medical', 'question', 'text', 'monitor', 'health', 'comprehensive', 'track', 'babylon', 'need', 'proactively', 'manage', 'healthcare']\n",
      "                                 \n",
      "Topic: Healthcare \n",
      "Score: 0.7542299032211304 \t \n",
      " \n",
      "Topic: Marketing \n",
      "Score: 0.19220156967639923 \t \n",
      " \n",
      "Topic: IT \n",
      "Score: 0.02399209514260292 \t \n",
      " \n",
      "Topic: Industry \n",
      "Score: 0.016681738197803497 \t \n",
      " \n",
      "Topic: Games \n",
      "Score: 0.012894679792225361 \t \n",
      " \n"
     ]
    }
   ],
   "source": [
    "lda_topic(text1_p)"
   ]
  },
  {
   "cell_type": "code",
   "execution_count": 68,
   "metadata": {
    "scrolled": true
   },
   "outputs": [
    {
     "name": "stdout",
     "output_type": "stream",
     "text": [
      "['contentyze', 'develop', 'generation', 'integrate', 'cut', 'edge', 'deep', 'learn', 'research', 'commercial', 'applications', 'market', 'ommerce']\n",
      "                                 \n",
      "Topic: IT \n",
      "Score: 0.6327376365661621 \t \n",
      " \n",
      "Topic: Healthcare \n",
      "Score: 0.2063627392053604 \t \n",
      " \n",
      "Topic: Games \n",
      "Score: 0.060650598257780075 \t \n",
      " \n",
      "Topic: Industry \n",
      "Score: 0.05301868915557861 \t \n",
      " \n",
      "Topic: Marketing \n",
      "Score: 0.04723035544157028 \t \n",
      " \n"
     ]
    }
   ],
   "source": [
    "lda_topic(text2_p)"
   ]
  },
  {
   "cell_type": "markdown",
   "metadata": {},
   "source": [
    "It can be seen that the model, at least in the first result shown, is correct."
   ]
  },
  {
   "cell_type": "markdown",
   "metadata": {},
   "source": [
    "In conclusion, we have reached an in depth understanding of the CrunchBase database. Companies tend to use similar style and transfer common information in their description, exactly as expected. However, also new unexpected insights were found: \n",
    "Topic models were able to identify recurring topics that allow us to find sub-categories of companies, which are not exactly industry-related. There is a much bigger focus on the value proposition of the Company, showing how the most recent approach in business is customer-centric\n",
    "Moreover, also clustering has confirmed a remarked differentiation inside the corpus.\n",
    "\n",
    "Future analysis could include:\n",
    "- the matching of investors that have already invested in some of the startups in this database with similar ones.\n",
    "- The identification of correlation between similar overviews and total_funding received"
   ]
  }
 ],
 "metadata": {
  "kernelspec": {
   "display_name": "Python 3",
   "language": "python",
   "name": "python3"
  },
  "language_info": {
   "codemirror_mode": {
    "name": "ipython",
    "version": 3
   },
   "file_extension": ".py",
   "mimetype": "text/x-python",
   "name": "python",
   "nbconvert_exporter": "python",
   "pygments_lexer": "ipython3",
   "version": "3.8.3"
  }
 },
 "nbformat": 4,
 "nbformat_minor": 4
}
